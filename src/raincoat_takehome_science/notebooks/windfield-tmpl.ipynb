{
 "cells": [
  {
   "cell_type": "markdown",
   "id": "5b365232",
   "metadata": {},
   "source": [
    "## Calculating wind fields from Tropical Cyclone tracks.\n",
    "This notebook helps you to use implementations of wind field calculations to derive winds from Tropical Cyclones over a given region of interest."
   ]
  },
  {
   "cell_type": "code",
   "execution_count": null,
   "id": "81519a66",
   "metadata": {},
   "outputs": [],
   "source": [
    "%matplotlib widget\n",
    "import cartopy.crs as ccrs\n",
    "from matplotlib import pyplot as plt\n",
    "from raincoat_takehome_science.plot import InteractiveMapPlotWidget\n",
    "import xarray as xr"
   ]
  },
  {
   "cell_type": "code",
   "execution_count": null,
   "id": "2c951725",
   "metadata": {
    "tags": [
     "parameters"
    ]
   },
   "outputs": [],
   "source": [
    "netcdf_file: str = \"\"\n",
    "variable: str = \"\""
   ]
  },
  {
   "cell_type": "markdown",
   "id": "4b6714a1",
   "metadata": {},
   "source": [
    "Open the netCDF dataset"
   ]
  },
  {
   "cell_type": "code",
   "execution_count": null,
   "id": "86d90301",
   "metadata": {},
   "outputs": [],
   "source": [
    "dset = xr.open_dataset(netcdf_file)\n",
    "dset"
   ]
  },
  {
   "cell_type": "markdown",
   "id": "00438894",
   "metadata": {},
   "source": [
    "Plot the max winds speeds for the considered time period."
   ]
  },
  {
   "cell_type": "code",
   "execution_count": null,
   "id": "219eff50",
   "metadata": {},
   "outputs": [],
   "source": [
    "fig, axis = plt.subplots(1, 1, subplot_kw=dict(projection=ccrs.PlateCarree()))\n",
    "dset[variable].max(dim=\"time\").plot(\n",
    "    transform=ccrs.PlateCarree(),\n",
    "    cbar_kwargs={\"orientation\": \"horizontal\",\n",
    "                 \"shrink\": 0.7,\n",
    "                 \"label\": f\"{dset[variable].attrs['long_name']} [{dset[variable].attrs['units']}]\"\n",
    "                },\n",
    "    robust=True,\n",
    ")\n",
    "axis.coastlines();"
   ]
  },
  {
   "cell_type": "markdown",
   "id": "0b7aae99-3b79-40d3-be5b-5111a855bbe6",
   "metadata": {},
   "source": [
    "Plot the max winds speeds for the considered time period."
   ]
  },
  {
   "cell_type": "code",
   "execution_count": null,
   "id": "3a0af1ce-51f0-437d-a8db-d2879f6f30c6",
   "metadata": {},
   "outputs": [],
   "source": [
    "InteractiveMapPlotWidget(dset[variable]);"
   ]
  }
 ],
 "metadata": {
  "celltoolbar": "Tags",
  "kernelspec": {
   "display_name": "Python 3 (ipykernel)",
   "language": "python",
   "name": "python3"
  },
  "language_info": {
   "codemirror_mode": {
    "name": "ipython",
    "version": 3
   },
   "file_extension": ".py",
   "mimetype": "text/x-python",
   "name": "python",
   "nbconvert_exporter": "python",
   "pygments_lexer": "ipython3",
   "version": "3.11.7"
  }
 },
 "nbformat": 4,
 "nbformat_minor": 5
}
